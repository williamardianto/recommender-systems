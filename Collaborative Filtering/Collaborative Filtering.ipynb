{
 "cells": [
  {
   "cell_type": "code",
   "execution_count": 1,
   "metadata": {},
   "outputs": [],
   "source": [
    "# !wget 'http://files.grouplens.org/datasets/movielens/ml-1m.zip'\n",
    "# !unzip 'ml-1m.zip'"
   ]
  },
  {
   "cell_type": "code",
   "execution_count": 2,
   "metadata": {},
   "outputs": [],
   "source": [
    "import pandas as pd\n",
    "import numpy as np"
   ]
  },
  {
   "cell_type": "code",
   "execution_count": 3,
   "metadata": {},
   "outputs": [
    {
     "data": {
      "text/plain": [
       "((1000209, 3), (3883, 3))"
      ]
     },
     "execution_count": 3,
     "metadata": {},
     "output_type": "execute_result"
    }
   ],
   "source": [
    "ratings = pd.read_csv('ml-1m/ratings.dat', \n",
    "                    sep='::', \n",
    "                    engine='python', \n",
    "                    encoding='latin-1',\n",
    "                    names=['userId', 'movieId', 'rating', 'timestamp']).drop(['timestamp'], axis=1)\n",
    "movies = pd.read_csv('ml-1m/movies.dat', \n",
    "                    sep='::', \n",
    "                    engine='python', \n",
    "                    encoding='latin-1',\n",
    "                    names=['movieId', 'title', 'genres'])\n",
    "\n",
    "ratings.shape, movies.shape"
   ]
  },
  {
   "cell_type": "code",
   "execution_count": 4,
   "metadata": {},
   "outputs": [
    {
     "data": {
      "text/html": [
       "<div>\n",
       "<style scoped>\n",
       "    .dataframe tbody tr th:only-of-type {\n",
       "        vertical-align: middle;\n",
       "    }\n",
       "\n",
       "    .dataframe tbody tr th {\n",
       "        vertical-align: top;\n",
       "    }\n",
       "\n",
       "    .dataframe thead th {\n",
       "        text-align: right;\n",
       "    }\n",
       "</style>\n",
       "<table border=\"1\" class=\"dataframe\">\n",
       "  <thead>\n",
       "    <tr style=\"text-align: right;\">\n",
       "      <th></th>\n",
       "      <th>userId</th>\n",
       "      <th>movieId</th>\n",
       "      <th>rating</th>\n",
       "    </tr>\n",
       "  </thead>\n",
       "  <tbody>\n",
       "    <tr>\n",
       "      <th>0</th>\n",
       "      <td>1</td>\n",
       "      <td>1193</td>\n",
       "      <td>5</td>\n",
       "    </tr>\n",
       "    <tr>\n",
       "      <th>1</th>\n",
       "      <td>1</td>\n",
       "      <td>661</td>\n",
       "      <td>3</td>\n",
       "    </tr>\n",
       "  </tbody>\n",
       "</table>\n",
       "</div>"
      ],
      "text/plain": [
       "   userId  movieId  rating\n",
       "0       1     1193       5\n",
       "1       1      661       3"
      ]
     },
     "execution_count": 4,
     "metadata": {},
     "output_type": "execute_result"
    }
   ],
   "source": [
    "ratings.head(2)"
   ]
  },
  {
   "cell_type": "code",
   "execution_count": 5,
   "metadata": {},
   "outputs": [
    {
     "data": {
      "text/html": [
       "<div>\n",
       "<style scoped>\n",
       "    .dataframe tbody tr th:only-of-type {\n",
       "        vertical-align: middle;\n",
       "    }\n",
       "\n",
       "    .dataframe tbody tr th {\n",
       "        vertical-align: top;\n",
       "    }\n",
       "\n",
       "    .dataframe thead th {\n",
       "        text-align: right;\n",
       "    }\n",
       "</style>\n",
       "<table border=\"1\" class=\"dataframe\">\n",
       "  <thead>\n",
       "    <tr style=\"text-align: right;\">\n",
       "      <th></th>\n",
       "      <th>movieId</th>\n",
       "      <th>title</th>\n",
       "      <th>genres</th>\n",
       "    </tr>\n",
       "  </thead>\n",
       "  <tbody>\n",
       "    <tr>\n",
       "      <th>0</th>\n",
       "      <td>1</td>\n",
       "      <td>Toy Story (1995)</td>\n",
       "      <td>Animation|Children's|Comedy</td>\n",
       "    </tr>\n",
       "    <tr>\n",
       "      <th>1</th>\n",
       "      <td>2</td>\n",
       "      <td>Jumanji (1995)</td>\n",
       "      <td>Adventure|Children's|Fantasy</td>\n",
       "    </tr>\n",
       "  </tbody>\n",
       "</table>\n",
       "</div>"
      ],
      "text/plain": [
       "   movieId             title                        genres\n",
       "0        1  Toy Story (1995)   Animation|Children's|Comedy\n",
       "1        2    Jumanji (1995)  Adventure|Children's|Fantasy"
      ]
     },
     "execution_count": 5,
     "metadata": {},
     "output_type": "execute_result"
    }
   ],
   "source": [
    "movies.head(2)"
   ]
  },
  {
   "cell_type": "code",
   "execution_count": 6,
   "metadata": {},
   "outputs": [
    {
     "name": "stdout",
     "output_type": "stream",
     "text": [
      "Number of movies:  3706\n",
      "Number of users:  6040\n"
     ]
    }
   ],
   "source": [
    "num_movies = ratings['movieId'].unique().shape[0]\n",
    "num_users = ratings['userId'].unique().shape[0]\n",
    "print('Number of movies: ',num_movies)\n",
    "print('Number of users: ',num_users)"
   ]
  },
  {
   "cell_type": "code",
   "execution_count": 7,
   "metadata": {},
   "outputs": [
    {
     "data": {
      "text/html": [
       "<div>\n",
       "<style scoped>\n",
       "    .dataframe tbody tr th:only-of-type {\n",
       "        vertical-align: middle;\n",
       "    }\n",
       "\n",
       "    .dataframe tbody tr th {\n",
       "        vertical-align: top;\n",
       "    }\n",
       "\n",
       "    .dataframe thead th {\n",
       "        text-align: right;\n",
       "    }\n",
       "</style>\n",
       "<table border=\"1\" class=\"dataframe\">\n",
       "  <thead>\n",
       "    <tr style=\"text-align: right;\">\n",
       "      <th></th>\n",
       "      <th>userId</th>\n",
       "      <th>0</th>\n",
       "    </tr>\n",
       "  </thead>\n",
       "  <tbody>\n",
       "    <tr>\n",
       "      <th>946</th>\n",
       "      <td>947</td>\n",
       "      <td>20</td>\n",
       "    </tr>\n",
       "    <tr>\n",
       "      <th>4067</th>\n",
       "      <td>4068</td>\n",
       "      <td>20</td>\n",
       "    </tr>\n",
       "    <tr>\n",
       "      <th>2529</th>\n",
       "      <td>2530</td>\n",
       "      <td>20</td>\n",
       "    </tr>\n",
       "    <tr>\n",
       "      <th>340</th>\n",
       "      <td>341</td>\n",
       "      <td>20</td>\n",
       "    </tr>\n",
       "    <tr>\n",
       "      <th>5257</th>\n",
       "      <td>5258</td>\n",
       "      <td>20</td>\n",
       "    </tr>\n",
       "  </tbody>\n",
       "</table>\n",
       "</div>"
      ],
      "text/plain": [
       "      userId   0\n",
       "946      947  20\n",
       "4067    4068  20\n",
       "2529    2530  20\n",
       "340      341  20\n",
       "5257    5258  20"
      ]
     },
     "execution_count": 7,
     "metadata": {},
     "output_type": "execute_result"
    }
   ],
   "source": [
    "# users have at least rated 20 movies\n",
    "ratings.groupby(['userId']).size().reset_index().sort_values(0)[:5]\n"
   ]
  },
  {
   "cell_type": "code",
   "execution_count": 8,
   "metadata": {},
   "outputs": [],
   "source": [
    "def train_test_split(ratings):\n",
    "    test = np.zeros(ratings.shape)\n",
    "    train = ratings.copy()\n",
    "    for user in range(ratings.shape[0]):\n",
    "        test_ratings = np.random.choice(ratings[user, :].nonzero()[0], \n",
    "                                        size=5, \n",
    "                                        replace=False)\n",
    "        train[user, test_ratings] = 0.\n",
    "        test[user, test_ratings] = ratings[user, test_ratings]\n",
    "\n",
    "    return train, test"
   ]
  },
  {
   "cell_type": "code",
   "execution_count": 9,
   "metadata": {},
   "outputs": [
    {
     "data": {
      "text/plain": [
       "((6040, 3706), (6040, 3706))"
      ]
     },
     "execution_count": 9,
     "metadata": {},
     "output_type": "execute_result"
    }
   ],
   "source": [
    "sparse_ratings = ratings.pivot(index = 'userId', columns ='movieId', values = 'rating').fillna(0).values\n",
    "\n",
    "train, test = train_test_split(sparse_ratings)\n",
    "\n",
    "train.shape, test.shape"
   ]
  },
  {
   "cell_type": "code",
   "execution_count": 10,
   "metadata": {},
   "outputs": [
    {
     "data": {
      "text/plain": [
       "((6040, 3706), (6040, 6040), (3706, 3706))"
      ]
     },
     "execution_count": 10,
     "metadata": {},
     "output_type": "execute_result"
    }
   ],
   "source": [
    "from sklearn.metrics.pairwise import pairwise_distances \n",
    "user_similarity = 1-pairwise_distances(train, metric='cosine')\n",
    "item_similarity = 1-pairwise_distances(train.T, metric='cosine')\n",
    "train.shape, user_similarity.shape, item_similarity.shape"
   ]
  },
  {
   "cell_type": "code",
   "execution_count": 11,
   "metadata": {},
   "outputs": [],
   "source": [
    "def predict(ratings, similarity, type='user'):\n",
    "    sum_abs_similarity = np.abs(similarity).sum(axis=1)\n",
    "    if type == 'user':\n",
    "        mean_user_rating = ratings.mean(axis=1).reshape(-1,1) # (:,1)\n",
    "        # removing bias associated with user, some user tend to give high or low ratings\n",
    "        ratings_diff = (ratings - mean_user_rating)\n",
    "        pred = mean_user_rating + similarity.dot(ratings_diff) / sum_abs_similarity.reshape(-1,1) # (:,1)\n",
    "    elif type == 'item':\n",
    "        pred = ratings.dot(similarity) / sum_abs_similarity.reshape(1,-1)\n",
    "    return pred"
   ]
  },
  {
   "cell_type": "code",
   "execution_count": 12,
   "metadata": {},
   "outputs": [
    {
     "data": {
      "text/plain": [
       "((6040, 3706), (6040, 3706))"
      ]
     },
     "execution_count": 12,
     "metadata": {},
     "output_type": "execute_result"
    }
   ],
   "source": [
    "user_pred = predict(train, user_similarity, type='user')\n",
    "item_pred = predict(train, item_similarity, type='item')\n",
    "\n",
    "user_pred.shape, item_pred.shape"
   ]
  },
  {
   "cell_type": "code",
   "execution_count": 13,
   "metadata": {},
   "outputs": [],
   "source": [
    "from sklearn.metrics import mean_squared_error\n",
    "from math import sqrt\n",
    "\n",
    "def get_rmse(pred, actual):\n",
    "    pred = pred[actual.nonzero()].flatten()\n",
    "    actual = actual[actual.nonzero()].flatten()\n",
    "    return sqrt(mean_squared_error(pred, actual))"
   ]
  },
  {
   "cell_type": "code",
   "execution_count": 14,
   "metadata": {},
   "outputs": [
    {
     "name": "stdout",
     "output_type": "stream",
     "text": [
      "user-based RMSE: 3.133744042016701\n",
      "item-based RMSE: 3.5981890905373124\n"
     ]
    }
   ],
   "source": [
    "print('user-based RMSE: ' + str(get_rmse(user_pred, test)))\n",
    "print('item-based RMSE: ' + str(get_rmse(item_pred, test)))"
   ]
  },
  {
   "cell_type": "code",
   "execution_count": 15,
   "metadata": {},
   "outputs": [],
   "source": [
    "def recommend_movies(userId, ratings, predictions, n=5):\n",
    "    userId = userId-1\n",
    "    to_watch_movies = np.where(ratings[userId] == 0)[0]\n",
    "    \n",
    "    pred_sort = to_watch_movies[predictions[userId, to_watch_movies].argsort()[:-n-1:-1]]\n",
    "    pred_values = predictions[userId][pred_sort]\n",
    "    \n",
    "    pred_movies = [movies.loc[x+1]['title'] for x in pred_sort]\n",
    "    \n",
    "    return pd.DataFrame({'movies': pred_movies, 'predictions': pred_values})\n"
   ]
  },
  {
   "cell_type": "code",
   "execution_count": 16,
   "metadata": {},
   "outputs": [
    {
     "data": {
      "text/html": [
       "<div>\n",
       "<style scoped>\n",
       "    .dataframe tbody tr th:only-of-type {\n",
       "        vertical-align: middle;\n",
       "    }\n",
       "\n",
       "    .dataframe tbody tr th {\n",
       "        vertical-align: top;\n",
       "    }\n",
       "\n",
       "    .dataframe thead th {\n",
       "        text-align: right;\n",
       "    }\n",
       "</style>\n",
       "<table border=\"1\" class=\"dataframe\">\n",
       "  <thead>\n",
       "    <tr style=\"text-align: right;\">\n",
       "      <th></th>\n",
       "      <th>movies</th>\n",
       "      <th>predictions</th>\n",
       "    </tr>\n",
       "  </thead>\n",
       "  <tbody>\n",
       "    <tr>\n",
       "      <th>0</th>\n",
       "      <td>Trick (1999)</td>\n",
       "      <td>2.396623</td>\n",
       "    </tr>\n",
       "    <tr>\n",
       "      <th>1</th>\n",
       "      <td>Perfect Candidate, A (1996)</td>\n",
       "      <td>2.359701</td>\n",
       "    </tr>\n",
       "    <tr>\n",
       "      <th>2</th>\n",
       "      <td>Return of the Pink Panther, The (1974)</td>\n",
       "      <td>2.090124</td>\n",
       "    </tr>\n",
       "    <tr>\n",
       "      <th>3</th>\n",
       "      <td>I Don't Want to Talk About It (De eso no se ha...</td>\n",
       "      <td>2.031540</td>\n",
       "    </tr>\n",
       "    <tr>\n",
       "      <th>4</th>\n",
       "      <td>Lethal Weapon 4 (1998)</td>\n",
       "      <td>2.000907</td>\n",
       "    </tr>\n",
       "    <tr>\n",
       "      <th>5</th>\n",
       "      <td>Hustler White (1996)</td>\n",
       "      <td>2.000178</td>\n",
       "    </tr>\n",
       "    <tr>\n",
       "      <th>6</th>\n",
       "      <td>24 7: Twenty Four Seven (1997)</td>\n",
       "      <td>1.954970</td>\n",
       "    </tr>\n",
       "    <tr>\n",
       "      <th>7</th>\n",
       "      <td>Swan Princess, The (1994)</td>\n",
       "      <td>1.953543</td>\n",
       "    </tr>\n",
       "    <tr>\n",
       "      <th>8</th>\n",
       "      <td>Princess Caraboo (1994)</td>\n",
       "      <td>1.791114</td>\n",
       "    </tr>\n",
       "    <tr>\n",
       "      <th>9</th>\n",
       "      <td>Rush Hour (1998)</td>\n",
       "      <td>1.783176</td>\n",
       "    </tr>\n",
       "  </tbody>\n",
       "</table>\n",
       "</div>"
      ],
      "text/plain": [
       "                                              movies  predictions\n",
       "0                                       Trick (1999)     2.396623\n",
       "1                        Perfect Candidate, A (1996)     2.359701\n",
       "2             Return of the Pink Panther, The (1974)     2.090124\n",
       "3  I Don't Want to Talk About It (De eso no se ha...     2.031540\n",
       "4                             Lethal Weapon 4 (1998)     2.000907\n",
       "5                               Hustler White (1996)     2.000178\n",
       "6                     24 7: Twenty Four Seven (1997)     1.954970\n",
       "7                          Swan Princess, The (1994)     1.953543\n",
       "8                            Princess Caraboo (1994)     1.791114\n",
       "9                                   Rush Hour (1998)     1.783176"
      ]
     },
     "execution_count": 16,
     "metadata": {},
     "output_type": "execute_result"
    }
   ],
   "source": [
    "recommend_movies(1, train, user_pred, 10)"
   ]
  },
  {
   "cell_type": "markdown",
   "metadata": {},
   "source": [
    "# Test"
   ]
  },
  {
   "cell_type": "code",
   "execution_count": 17,
   "metadata": {},
   "outputs": [
    {
     "data": {
      "text/plain": [
       "((8, 1), (1, 9))"
      ]
     },
     "execution_count": 17,
     "metadata": {},
     "output_type": "execute_result"
    }
   ],
   "source": [
    "rats = np.array([\n",
    "    [5,4,5,0,0,0,0,0,0],\n",
    "    [5,5,4,0,0,0,0,0,0],\n",
    "    [0,5,4,0,0,0,0,0,0],\n",
    "    [0,0,0,3,4,5,0,0,0],\n",
    "    [0,0,0,5,4,5,0,0,0],\n",
    "    [0,0,0,0,0,0,5,3,4],\n",
    "    [0,0,0,0,0,0,5,5,3],\n",
    "    [0,0,0,0,0,0,5,0,3],\n",
    "])\n",
    "rats_mean_user = np.mean(rats, axis=1).reshape(-1,1)\n",
    "rats_mean_item = np.mean(rats, axis=0).reshape(1,-1)\n",
    "rats_mean_user.shape, rats_mean_item.shape"
   ]
  },
  {
   "cell_type": "code",
   "execution_count": 18,
   "metadata": {},
   "outputs": [],
   "source": [
    "sims_user = 1-pairwise_distances(rats, metric='cosine')\n",
    "sims_item = 1-pairwise_distances(rats.T, metric='cosine')"
   ]
  },
  {
   "cell_type": "code",
   "execution_count": 19,
   "metadata": {},
   "outputs": [],
   "source": [
    "p_u = predict(rats, sims_user, type='user')\n",
    "p_i = predict(rats, sims_item, type='item')"
   ]
  },
  {
   "cell_type": "code",
   "execution_count": 20,
   "metadata": {},
   "outputs": [
    {
     "data": {
      "text/plain": [
       "array([[ 3.75897086,  4.7919934 ,  4.51826389,  0.15512864,  0.15512864,\n",
       "         0.15512864,  0.15512864,  0.15512864,  0.15512864],\n",
       "       [ 3.73676351,  4.80275062,  4.5130585 ,  0.15790456,  0.15790456,\n",
       "         0.15790456,  0.15790456,  0.15790456,  0.15790456],\n",
       "       [ 2.70637567,  4.36099463,  3.96241145, -0.33829696, -0.33829696,\n",
       "        -0.33829696, -0.33829696, -0.33829696, -0.33829696],\n",
       "       [-0.10969523, -0.10969523, -0.10969523,  3.87756187,  3.89030477,\n",
       "         4.89030477, -0.10969523, -0.10969523, -0.10969523],\n",
       "       [ 0.10969523,  0.10969523,  0.10969523,  4.12243813,  4.10969523,\n",
       "         5.10969523,  0.10969523,  0.10969523,  0.10969523],\n",
       "       [ 0.10244534,  0.10244534,  0.10244534,  0.10244534,  0.10244534,\n",
       "         0.10244534,  5.10244534,  2.83014751,  3.4527351 ],\n",
       "       [ 0.194408  ,  0.194408  ,  0.194408  ,  0.194408  ,  0.194408  ,\n",
       "         0.194408  ,  5.194408  ,  3.09230106,  3.54684295],\n",
       "       [-0.30889156, -0.30889156, -0.30889156, -0.30889156, -0.30889156,\n",
       "        -0.30889156,  4.69110844,  2.13332734,  3.0289136 ]])"
      ]
     },
     "execution_count": 20,
     "metadata": {},
     "output_type": "execute_result"
    }
   ],
   "source": [
    "p_u"
   ]
  },
  {
   "cell_type": "code",
   "execution_count": 21,
   "metadata": {},
   "outputs": [
    {
     "data": {
      "text/plain": [
       "array([[4.70172623, 4.63788864, 4.65325176, 0.        , 0.        ,\n",
       "        0.        , 0.        , 0.        , 0.        ],\n",
       "       [4.67904096, 4.64577109, 4.64553578, 0.        , 0.        ,\n",
       "        0.        , 0.        , 0.        , 0.        ],\n",
       "       [2.775205  , 3.22747242, 3.15159806, 0.        , 0.        ,\n",
       "        0.        , 0.        , 0.        , 0.        ],\n",
       "       [0.        , 0.        , 0.        , 3.98984537, 4.01005255,\n",
       "        4.01005255, 0.        , 0.        , 0.        ],\n",
       "       [0.        , 0.        , 0.        , 4.67005154, 4.66331582,\n",
       "        4.66331582, 0.        , 0.        , 0.        ],\n",
       "       [0.        , 0.        , 0.        , 0.        , 0.        ,\n",
       "        0.        , 4.07471679, 3.91961987, 4.07040633],\n",
       "       [0.        , 0.        , 0.        , 0.        , 0.        ,\n",
       "        0.        , 4.28824369, 4.38588919, 4.28167762],\n",
       "       [0.        , 0.        , 0.        , 0.        , 0.        ,\n",
       "        0.        , 2.86473106, 2.45257737, 2.85559642]])"
      ]
     },
     "execution_count": 21,
     "metadata": {},
     "output_type": "execute_result"
    }
   ],
   "source": [
    "p_i"
   ]
  }
 ],
 "metadata": {
  "kernelspec": {
   "display_name": "Python 3",
   "language": "python",
   "name": "python3"
  },
  "language_info": {
   "codemirror_mode": {
    "name": "ipython",
    "version": 3
   },
   "file_extension": ".py",
   "mimetype": "text/x-python",
   "name": "python",
   "nbconvert_exporter": "python",
   "pygments_lexer": "ipython3",
   "version": "3.6.7"
  }
 },
 "nbformat": 4,
 "nbformat_minor": 2
}
