{
 "cells": [
  {
   "cell_type": "code",
   "execution_count": 1,
   "metadata": {},
   "outputs": [
    {
     "name": "stdout",
     "output_type": "stream",
     "text": [
      "--2018-12-26 14:34:15--  http://files.grouplens.org/datasets/movielens/ml-1m.zip\n",
      "Resolving files.grouplens.org (files.grouplens.org)... 128.101.34.235\n",
      "Connecting to files.grouplens.org (files.grouplens.org)|128.101.34.235|:80... connected.\n",
      "HTTP request sent, awaiting response... 200 OK\n",
      "Length: 5917549 (5.6M) [application/zip]\n",
      "Saving to: 'ml-1m.zip'\n",
      "\n",
      "ml-1m.zip           100%[===================>]   5.64M   424KB/s    in 13s     \n",
      "\n",
      "2018-12-26 14:34:29 (448 KB/s) - 'ml-1m.zip' saved [5917549/5917549]\n",
      "\n",
      "Archive:  ml-1m.zip\n",
      "   creating: ml-1m/\n",
      "  inflating: ml-1m/movies.dat        \n",
      "  inflating: ml-1m/ratings.dat       \n",
      "  inflating: ml-1m/README            \n",
      "  inflating: ml-1m/users.dat         \n"
     ]
    }
   ],
   "source": [
    "!wget 'http://files.grouplens.org/datasets/movielens/ml-1m.zip'\n",
    "!unzip 'ml-1m.zip'"
   ]
  },
  {
   "cell_type": "code",
   "execution_count": 2,
   "metadata": {},
   "outputs": [],
   "source": [
    "import pandas as pd\n",
    "import numpy as np"
   ]
  },
  {
   "cell_type": "code",
   "execution_count": 3,
   "metadata": {},
   "outputs": [
    {
     "data": {
      "text/plain": [
       "((1000209, 3), (3883, 3))"
      ]
     },
     "execution_count": 3,
     "metadata": {},
     "output_type": "execute_result"
    }
   ],
   "source": [
    "ratings = pd.read_csv('ml-1m/ratings.dat', \n",
    "                    sep='::', \n",
    "                    engine='python', \n",
    "                    encoding='latin-1',\n",
    "                    names=['userId', 'movieId', 'rating', 'timestamp']).drop(['timestamp'], axis=1)\n",
    "movies = pd.read_csv('ml-1m/movies.dat', \n",
    "                    sep='::', \n",
    "                    engine='python', \n",
    "                    encoding='latin-1',\n",
    "                    names=['movieId', 'title', 'genres'])\n",
    "\n",
    "ratings.shape, movies.shape"
   ]
  },
  {
   "cell_type": "code",
   "execution_count": 5,
   "metadata": {},
   "outputs": [
    {
     "data": {
      "text/html": [
       "<div>\n",
       "<style scoped>\n",
       "    .dataframe tbody tr th:only-of-type {\n",
       "        vertical-align: middle;\n",
       "    }\n",
       "\n",
       "    .dataframe tbody tr th {\n",
       "        vertical-align: top;\n",
       "    }\n",
       "\n",
       "    .dataframe thead th {\n",
       "        text-align: right;\n",
       "    }\n",
       "</style>\n",
       "<table border=\"1\" class=\"dataframe\">\n",
       "  <thead>\n",
       "    <tr style=\"text-align: right;\">\n",
       "      <th></th>\n",
       "      <th>userId</th>\n",
       "      <th>movieId</th>\n",
       "      <th>rating</th>\n",
       "    </tr>\n",
       "  </thead>\n",
       "  <tbody>\n",
       "    <tr>\n",
       "      <th>0</th>\n",
       "      <td>1</td>\n",
       "      <td>1193</td>\n",
       "      <td>5</td>\n",
       "    </tr>\n",
       "    <tr>\n",
       "      <th>1</th>\n",
       "      <td>1</td>\n",
       "      <td>661</td>\n",
       "      <td>3</td>\n",
       "    </tr>\n",
       "    <tr>\n",
       "      <th>2</th>\n",
       "      <td>1</td>\n",
       "      <td>914</td>\n",
       "      <td>3</td>\n",
       "    </tr>\n",
       "    <tr>\n",
       "      <th>3</th>\n",
       "      <td>1</td>\n",
       "      <td>3408</td>\n",
       "      <td>4</td>\n",
       "    </tr>\n",
       "    <tr>\n",
       "      <th>4</th>\n",
       "      <td>1</td>\n",
       "      <td>2355</td>\n",
       "      <td>5</td>\n",
       "    </tr>\n",
       "  </tbody>\n",
       "</table>\n",
       "</div>"
      ],
      "text/plain": [
       "   userId  movieId  rating\n",
       "0       1     1193       5\n",
       "1       1      661       3\n",
       "2       1      914       3\n",
       "3       1     3408       4\n",
       "4       1     2355       5"
      ]
     },
     "execution_count": 5,
     "metadata": {},
     "output_type": "execute_result"
    }
   ],
   "source": [
    "ratings.head()"
   ]
  },
  {
   "cell_type": "code",
   "execution_count": 6,
   "metadata": {},
   "outputs": [
    {
     "data": {
      "text/html": [
       "<div>\n",
       "<style scoped>\n",
       "    .dataframe tbody tr th:only-of-type {\n",
       "        vertical-align: middle;\n",
       "    }\n",
       "\n",
       "    .dataframe tbody tr th {\n",
       "        vertical-align: top;\n",
       "    }\n",
       "\n",
       "    .dataframe thead th {\n",
       "        text-align: right;\n",
       "    }\n",
       "</style>\n",
       "<table border=\"1\" class=\"dataframe\">\n",
       "  <thead>\n",
       "    <tr style=\"text-align: right;\">\n",
       "      <th></th>\n",
       "      <th>movieId</th>\n",
       "      <th>title</th>\n",
       "      <th>genres</th>\n",
       "    </tr>\n",
       "  </thead>\n",
       "  <tbody>\n",
       "    <tr>\n",
       "      <th>0</th>\n",
       "      <td>1</td>\n",
       "      <td>Toy Story (1995)</td>\n",
       "      <td>Animation|Children's|Comedy</td>\n",
       "    </tr>\n",
       "    <tr>\n",
       "      <th>1</th>\n",
       "      <td>2</td>\n",
       "      <td>Jumanji (1995)</td>\n",
       "      <td>Adventure|Children's|Fantasy</td>\n",
       "    </tr>\n",
       "    <tr>\n",
       "      <th>2</th>\n",
       "      <td>3</td>\n",
       "      <td>Grumpier Old Men (1995)</td>\n",
       "      <td>Comedy|Romance</td>\n",
       "    </tr>\n",
       "    <tr>\n",
       "      <th>3</th>\n",
       "      <td>4</td>\n",
       "      <td>Waiting to Exhale (1995)</td>\n",
       "      <td>Comedy|Drama</td>\n",
       "    </tr>\n",
       "    <tr>\n",
       "      <th>4</th>\n",
       "      <td>5</td>\n",
       "      <td>Father of the Bride Part II (1995)</td>\n",
       "      <td>Comedy</td>\n",
       "    </tr>\n",
       "  </tbody>\n",
       "</table>\n",
       "</div>"
      ],
      "text/plain": [
       "   movieId                               title                        genres\n",
       "0        1                    Toy Story (1995)   Animation|Children's|Comedy\n",
       "1        2                      Jumanji (1995)  Adventure|Children's|Fantasy\n",
       "2        3             Grumpier Old Men (1995)                Comedy|Romance\n",
       "3        4            Waiting to Exhale (1995)                  Comedy|Drama\n",
       "4        5  Father of the Bride Part II (1995)                        Comedy"
      ]
     },
     "execution_count": 6,
     "metadata": {},
     "output_type": "execute_result"
    }
   ],
   "source": [
    "movies.head()"
   ]
  },
  {
   "cell_type": "code",
   "execution_count": 7,
   "metadata": {},
   "outputs": [
    {
     "name": "stdout",
     "output_type": "stream",
     "text": [
      "Number of movies:  3706\n",
      "Number of users:  6040\n"
     ]
    }
   ],
   "source": [
    "num_movies = ratings['movieId'].unique().shape[0]\n",
    "num_users = ratings['userId'].unique().shape[0]\n",
    "print('Number of movies: ',num_movies)\n",
    "print('Number of users: ',num_users)"
   ]
  },
  {
   "cell_type": "code",
   "execution_count": 8,
   "metadata": {},
   "outputs": [],
   "source": [
    "def train_test_split(ratings):\n",
    "    test = np.zeros(ratings.shape)\n",
    "    train = ratings.copy()\n",
    "    for user in range(ratings.shape[0]):\n",
    "        test_ratings = np.random.choice(ratings[user, :].nonzero()[0], \n",
    "                                        size=5, \n",
    "                                        replace=False)\n",
    "        train[user, test_ratings] = 0.\n",
    "        test[user, test_ratings] = ratings[user, test_ratings]\n",
    "\n",
    "    return train, test"
   ]
  },
  {
   "cell_type": "code",
   "execution_count": 9,
   "metadata": {},
   "outputs": [
    {
     "data": {
      "text/plain": [
       "((6040, 3706), (6040, 3706))"
      ]
     },
     "execution_count": 9,
     "metadata": {},
     "output_type": "execute_result"
    }
   ],
   "source": [
    "sparse_ratings = ratings.pivot(index = 'userId', columns ='movieId', values = 'rating').fillna(0).values\n",
    "\n",
    "train, test = train_test_split(sparse_ratings)\n",
    "\n",
    "train.shape, test.shape"
   ]
  },
  {
   "cell_type": "code",
   "execution_count": 166,
   "metadata": {},
   "outputs": [],
   "source": [
    "from scipy.sparse.linalg import svds\n",
    "\n",
    "def compute_svds(ratings, k=10):\n",
    "    ratings = ratings - ratings.mean(axis=1).reshape(-1,1)\n",
    "    U, sigma, Vt = svds(ratings, k = k)\n",
    "#     sigma = np.diag(np.sqrt(sigma))\n",
    "    sigma = np.diag(sigma)\n",
    "    return U, sigma, Vt\n",
    "#     print(U.shape, sigma.shape, Vt.shape)\n",
    "    \n",
    "def predict(ratings, U, S, V):\n",
    "    return U.dot(S).dot(V) + ratings.mean(axis=1).reshape(-1,1)"
   ]
  },
  {
   "cell_type": "code",
   "execution_count": 188,
   "metadata": {},
   "outputs": [],
   "source": [
    "U, S, Vt = compute_svds(train, k=30)"
   ]
  },
  {
   "cell_type": "code",
   "execution_count": 189,
   "metadata": {},
   "outputs": [],
   "source": [
    "pred = predict(train, U, S, Vt)"
   ]
  },
  {
   "cell_type": "code",
   "execution_count": 193,
   "metadata": {},
   "outputs": [],
   "source": [
    "from sklearn.metrics import mean_squared_error\n",
    "\n",
    "def get_rmse(pred, actual):\n",
    "    pred = pred[actual.nonzero()].flatten()\n",
    "    actual = actual[actual.nonzero()].flatten()\n",
    "    return np.sqrt(mean_squared_error(pred, actual))"
   ]
  },
  {
   "cell_type": "code",
   "execution_count": 194,
   "metadata": {},
   "outputs": [
    {
     "name": "stdout",
     "output_type": "stream",
     "text": [
      "SVD RMSE: 2.92893919536704\n"
     ]
    }
   ],
   "source": [
    "print('SVD RMSE: ' + str(get_rmse(pred, test)))"
   ]
  },
  {
   "cell_type": "code",
   "execution_count": null,
   "metadata": {},
   "outputs": [],
   "source": []
  },
  {
   "cell_type": "code",
   "execution_count": 28,
   "metadata": {},
   "outputs": [
    {
     "name": "stdout",
     "output_type": "stream",
     "text": [
      "(100, 10) (10, 10) (10, 150)\n"
     ]
    }
   ],
   "source": [
    "t = np.random.rand(100, 150)\n",
    "compute_svds(t, 10)"
   ]
  },
  {
   "cell_type": "code",
   "execution_count": 16,
   "metadata": {},
   "outputs": [
    {
     "data": {
      "text/plain": [
       "((6040, 6040), (3706,), (3706, 3706))"
      ]
     },
     "execution_count": 16,
     "metadata": {},
     "output_type": "execute_result"
    }
   ],
   "source": [
    "from numpy.linalg import svd\n",
    "U, sigma, Vt = svd(train)\n",
    "U.shape, sigma.shape, Vt.shape"
   ]
  },
  {
   "cell_type": "code",
   "execution_count": 18,
   "metadata": {},
   "outputs": [
    {
     "data": {
      "text/plain": [
       "((100, 200), (100,), (100, 100))"
      ]
     },
     "execution_count": 18,
     "metadata": {},
     "output_type": "execute_result"
    }
   ],
   "source": [
    "import numpy, scipy.sparse\n",
    "from sparsesvd import sparsesvd\n",
    "mat = numpy.random.rand(200, 100) # create a random matrix\n",
    "smat = scipy.sparse.csc_matrix(mat) # convert to sparse CSC format\n",
    "ut, s, vt = sparsesvd(smat, 100)\n",
    "ut.shape, s.shape, vt.shape"
   ]
  },
  {
   "cell_type": "code",
   "execution_count": 21,
   "metadata": {},
   "outputs": [],
   "source": [
    "U, sigma, Vt = svds(mat, k = 50)"
   ]
  },
  {
   "cell_type": "code",
   "execution_count": 25,
   "metadata": {},
   "outputs": [
    {
     "data": {
      "text/plain": [
       "array([0.        , 3.86354047, 0.        , 0.        , 0.        ,\n",
       "       0.        , 0.        , 0.        , 0.        , 0.        ,\n",
       "       0.        , 0.        , 0.        , 0.        , 0.        ,\n",
       "       0.        , 0.        , 0.        , 0.        , 0.        ,\n",
       "       0.        , 0.        , 0.        , 0.        , 0.        ,\n",
       "       0.        , 0.        , 0.        , 0.        , 0.        ,\n",
       "       0.        , 0.        , 0.        , 0.        , 0.        ,\n",
       "       0.        , 0.        , 0.        , 0.        , 0.        ,\n",
       "       0.        , 0.        , 0.        , 0.        , 0.        ,\n",
       "       0.        , 0.        , 0.        , 0.        , 0.        ])"
      ]
     },
     "execution_count": 25,
     "metadata": {},
     "output_type": "execute_result"
    }
   ],
   "source": [
    "np.diag(sigma)[1]"
   ]
  },
  {
   "cell_type": "code",
   "execution_count": 159,
   "metadata": {},
   "outputs": [
    {
     "data": {
      "text/plain": [
       "(9, 9)"
      ]
     },
     "execution_count": 159,
     "metadata": {},
     "output_type": "execute_result"
    }
   ],
   "source": [
    "rats = np.array([\n",
    "    [5,4,5,0,0,0,0,0,0],\n",
    "    [5,5,4,0,0,0,0,0,0],\n",
    "    [0,5,4,0,0,0,0,0,0],\n",
    "    [2,2,2,0,0,0,0,0,0],\n",
    "    [0,0,0,3,4,5,0,0,0],\n",
    "    [0,0,0,5,4,5,0,0,0],\n",
    "    [0,0,0,0,0,0,5,3,4],\n",
    "    [0,0,0,0,0,0,5,5,3],\n",
    "    [0,0,0,0,0,0,5,0,3],\n",
    "])\n",
    "rats_mean_user = np.mean(rats, axis=1).reshape(-1,1)\n",
    "rats_mean_item = np.mean(rats, axis=0).reshape(1,-1)\n",
    "rats_mean_user.shape, rats_mean_item.shape\n",
    "\n",
    "rats.shape"
   ]
  },
  {
   "cell_type": "code",
   "execution_count": 163,
   "metadata": {},
   "outputs": [
    {
     "data": {
      "text/plain": [
       "array([[ 3.44,  2.44,  3.44, -1.56, -1.56, -1.56, -1.56, -1.56, -1.56],\n",
       "       [ 3.44,  3.44,  2.44, -1.56, -1.56, -1.56, -1.56, -1.56, -1.56],\n",
       "       [-1.  ,  4.  ,  3.  , -1.  , -1.  , -1.  , -1.  , -1.  , -1.  ],\n",
       "       [ 1.33,  1.33,  1.33, -0.67, -0.67, -0.67, -0.67, -0.67, -0.67],\n",
       "       [-1.33, -1.33, -1.33,  1.67,  2.67,  3.67, -1.33, -1.33, -1.33],\n",
       "       [-1.56, -1.56, -1.56,  3.44,  2.44,  3.44, -1.56, -1.56, -1.56],\n",
       "       [-1.33, -1.33, -1.33, -1.33, -1.33, -1.33,  3.67,  1.67,  2.67],\n",
       "       [-1.44, -1.44, -1.44, -1.44, -1.44, -1.44,  3.56,  3.56,  1.56],\n",
       "       [-0.89, -0.89, -0.89, -0.89, -0.89, -0.89,  4.11, -0.89,  2.11]])"
      ]
     },
     "execution_count": 163,
     "metadata": {},
     "output_type": "execute_result"
    }
   ],
   "source": [
    "np.around(rats-rats_mean_user,2)"
   ]
  },
  {
   "cell_type": "code",
   "execution_count": 146,
   "metadata": {},
   "outputs": [],
   "source": [
    "u,s,vt = compute_svds(rats.astype('float'), k=3 )"
   ]
  },
  {
   "cell_type": "code",
   "execution_count": 147,
   "metadata": {},
   "outputs": [
    {
     "data": {
      "text/plain": [
       "array([[-6.75582434e-17, -1.03367774e-16,  6.34575568e-01],\n",
       "       [ 1.43312739e-16,  1.17456728e-16,  6.37345189e-01],\n",
       "       [ 9.16986637e-17,  1.67719523e-16,  4.37155531e-01],\n",
       "       [-6.55201741e-01,  4.14288825e-16,  8.41607892e-17],\n",
       "       [-7.55453955e-01,  4.42472030e-16,  5.25338567e-17],\n",
       "       [ 3.31822815e-16,  6.13046270e-01,  5.30683308e-17],\n",
       "       [ 4.99198208e-16,  6.46212185e-01,  2.12451936e-16],\n",
       "       [ 2.53334304e-16,  4.54515217e-01,  6.99539703e-17]])"
      ]
     },
     "execution_count": 147,
     "metadata": {},
     "output_type": "execute_result"
    }
   ],
   "source": [
    "u"
   ]
  },
  {
   "cell_type": "code",
   "execution_count": 148,
   "metadata": {},
   "outputs": [
    {
     "data": {
      "text/plain": [
       "array([[3.27164631, 0.        , 0.        ],\n",
       "       [0.        , 3.39113405, 0.        ],\n",
       "       [0.        , 0.        , 3.55009199]])"
      ]
     },
     "execution_count": 148,
     "metadata": {},
     "output_type": "execute_result"
    }
   ],
   "source": [
    "s"
   ]
  },
  {
   "cell_type": "code",
   "execution_count": 149,
   "metadata": {},
   "outputs": [
    {
     "data": {
      "text/plain": [
       "array([[ 3.53871610e-17,  8.45340034e-17,  5.62661608e-17,\n",
       "        -5.36533285e-01, -5.27167131e-01, -6.58958914e-01,\n",
       "         5.06534380e-16,  3.26192757e-16,  3.34921474e-16],\n",
       "       [ 6.12574399e-18,  8.80372727e-17,  5.42502192e-17,\n",
       "         3.00459972e-16,  2.98009214e-16,  3.72511517e-16,\n",
       "         7.45132586e-01,  4.40894979e-01,  5.00388896e-01],\n",
       "       [ 5.04604183e-01,  6.27684659e-01,  5.92778700e-01,\n",
       "         4.08748228e-17,  4.33842689e-17,  5.42303361e-17,\n",
       "         1.33091391e-16,  9.69173872e-17,  8.40655534e-17]])"
      ]
     },
     "execution_count": 149,
     "metadata": {},
     "output_type": "execute_result"
    }
   ],
   "source": [
    "vt"
   ]
  },
  {
   "cell_type": "code",
   "execution_count": 155,
   "metadata": {},
   "outputs": [],
   "source": [
    "res = u.dot(s).dot(vt)\n",
    "# res.round()\n",
    "# res"
   ]
  },
  {
   "cell_type": "code",
   "execution_count": 157,
   "metadata": {},
   "outputs": [
    {
     "data": {
      "text/plain": [
       "array([[ 1.14,  1.41,  1.34,  0.  ,  0.  ,  0.  ,  0.  ,  0.  ,  0.  ],\n",
       "       [ 1.14,  1.42,  1.34, -0.  , -0.  , -0.  ,  0.  ,  0.  ,  0.  ],\n",
       "       [ 0.78,  0.97,  0.92, -0.  , -0.  , -0.  ,  0.  ,  0.  ,  0.  ],\n",
       "       [ 0.  ,  0.  ,  0.  ,  1.15,  1.13,  1.41, -0.  , -0.  , -0.  ],\n",
       "       [ 0.  , -0.  , -0.  ,  1.33,  1.3 ,  1.63, -0.  , -0.  , -0.  ],\n",
       "       [ 0.  ,  0.  ,  0.  ,  0.  ,  0.  ,  0.  ,  1.55,  0.92,  1.04],\n",
       "       [ 0.  ,  0.  ,  0.  , -0.  , -0.  , -0.  ,  1.63,  0.97,  1.1 ],\n",
       "       [ 0.  ,  0.  ,  0.  ,  0.  ,  0.  ,  0.  ,  1.15,  0.68,  0.77]])"
      ]
     },
     "execution_count": 157,
     "metadata": {},
     "output_type": "execute_result"
    }
   ],
   "source": [
    "np.around(res,decimals=2)"
   ]
  },
  {
   "cell_type": "code",
   "execution_count": null,
   "metadata": {},
   "outputs": [],
   "source": []
  },
  {
   "cell_type": "code",
   "execution_count": null,
   "metadata": {},
   "outputs": [],
   "source": []
  }
 ],
 "metadata": {
  "kernelspec": {
   "display_name": "Python 3",
   "language": "python",
   "name": "python3"
  },
  "language_info": {
   "codemirror_mode": {
    "name": "ipython",
    "version": 3
   },
   "file_extension": ".py",
   "mimetype": "text/x-python",
   "name": "python",
   "nbconvert_exporter": "python",
   "pygments_lexer": "ipython3",
   "version": "3.6.7"
  }
 },
 "nbformat": 4,
 "nbformat_minor": 2
}
